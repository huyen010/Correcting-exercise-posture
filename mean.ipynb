{
  "nbformat": 4,
  "nbformat_minor": 0,
  "metadata": {
    "colab": {
      "name": "mean.ipynb",
      "private_outputs": true,
      "provenance": []
    },
    "kernelspec": {
      "name": "python3",
      "display_name": "Python 3"
    },
    "language_info": {
      "name": "python"
    }
  },
  "cells": [
    {
      "cell_type": "code",
      "execution_count": null,
      "metadata": {
        "id": "RhGwShEpA_O9"
      },
      "outputs": [],
      "source": [
        "from google.colab import drive\n",
        "drive.mount('/content/drive')"
      ]
    },
    {
      "cell_type": "code",
      "source": [
        "import pandas as pd\n",
        "import seaborn as sns\n",
        "import numpy as np\n",
        "import matplotlib.pyplot as plt\n",
        "from tensorflow import keras"
      ],
      "metadata": {
        "id": "4R1yoBfkBMNg"
      },
      "execution_count": null,
      "outputs": []
    },
    {
      "cell_type": "code",
      "source": [
        "yogaTrain = pd.read_csv('/content/drive/MyDrive/Colab Notebooks/data/yogaTrain1.csv')\n",
        "yogaTest = pd.read_csv('/content/drive/MyDrive/Colab Notebooks/data/yogaTest1.csv')"
      ],
      "metadata": {
        "id": "e7iZ3hEZBN_G"
      },
      "execution_count": null,
      "outputs": []
    },
    {
      "cell_type": "code",
      "source": [
        "yogaTrain = yogaTrain.drop(['img'], axis=1)\n",
        "yogaTest = yogaTest.drop(['img'], axis=1)"
      ],
      "metadata": {
        "id": "r7uAtLmWzldh"
      },
      "execution_count": null,
      "outputs": []
    },
    {
      "cell_type": "code",
      "source": [
        "# chuyển data series dataframe sang numpy array\n",
        "trainData = []\n",
        "\n",
        "for i in range(yogaTrain.shape[0]):\n",
        "  x = yogaTrain.iloc[i].to_numpy()\n",
        "  trainData.append(x)\n",
        "\n",
        "trainData = np.array(trainData)"
      ],
      "metadata": {
        "id": "b3KKBUlMzyp4"
      },
      "execution_count": null,
      "outputs": []
    },
    {
      "cell_type": "markdown",
      "source": [
        "# Tinh mean"
      ],
      "metadata": {
        "id": "E1uu294Q6QAR"
      }
    },
    {
      "cell_type": "code",
      "source": [
        "x1 = np.array([1, 2, 3])\n",
        "x2 = np.array([4, 5, 6])\n",
        "x3 = np.array([7, 8, 9])\n",
        "\n",
        "x = ([[1, 2, 3],\n",
        "      [4, 5, 6], \n",
        "      [7, 8, 9]])\n",
        "x = np.mean(x, axis=0 )\n",
        "x"
      ],
      "metadata": {
        "id": "l7ZnZjZU07xg"
      },
      "execution_count": null,
      "outputs": []
    },
    {
      "cell_type": "code",
      "source": [
        "x1_mean = []\n",
        "x2_mean = []\n",
        "x3_mean = []\n",
        "x4_mean = []\n",
        "x5_mean = []\n",
        "x6_mean = []\n",
        "x7_mean = []\n",
        "x8_mean = []\n",
        "x9_mean = []\n",
        "for i in range(trainData.shape[0]):\n",
        "  if trainData[i][57] == 1:\n",
        "    x1_mean.append(trainData[i][:57])\n",
        "  elif trainData[i][57] == 2:\n",
        "    x2_mean.append(trainData[i][:57])\n",
        "  elif trainData[i][57] == 3:\n",
        "    x3_mean.append(trainData[i][:57])\n",
        "  elif trainData[i][57] == 4:\n",
        "    x4_mean.append(trainData[i][:57])\n",
        "  elif trainData[i][57] == 5:\n",
        "    x5_mean.append(trainData[i][:57])\n",
        "  elif trainData[i][57] == 6:\n",
        "    x6_mean.append(trainData[i][:57])\n",
        "  elif trainData[i][57] == 7:\n",
        "    x7_mean.append(trainData[i][:57])\n",
        "  elif trainData[i][57] == 8:\n",
        "    x8_mean.append(trainData[i][:57])\n",
        "  elif trainData[i][57] == 9:\n",
        "    x9_mean.append(trainData[i][:57])"
      ],
      "metadata": {
        "id": "Yo4w9Evyz1UW"
      },
      "execution_count": null,
      "outputs": []
    },
    {
      "cell_type": "code",
      "source": [
        "x1_mean = np.mean(x1_mean, axis=0)\n",
        "x2_mean = np.mean(x2_mean, axis=0)\n",
        "x3_mean = np.mean(x3_mean, axis=0)\n",
        "x4_mean = np.mean(x4_mean, axis=0)\n",
        "x5_mean = np.mean(x5_mean, axis=0)\n",
        "x6_mean = np.mean(x6_mean, axis=0)\n",
        "x7_mean = np.mean(x7_mean, axis=0)\n",
        "x8_mean = np.mean(x8_mean, axis=0)\n",
        "x9_mean = np.mean(x9_mean, axis=0)"
      ],
      "metadata": {
        "id": "eWfZrEZu3x3d"
      },
      "execution_count": null,
      "outputs": []
    },
    {
      "cell_type": "code",
      "source": [
        "x_mean = np.concatenate([[x1_mean], [x2_mean], [x3_mean], [x4_mean], [x5_mean], [x6_mean], [x7_mean], [x8_mean], [x9_mean]])\n",
        "x_mean.shape"
      ],
      "metadata": {
        "id": "zxieRMhj37iO"
      },
      "execution_count": null,
      "outputs": []
    },
    {
      "cell_type": "code",
      "source": [
        "DF = pd.DataFrame(x_mean)\n",
        "DF.to_csv(\"/content/drive/MyDrive/Colab Notebooks/data/xmean.csv\")"
      ],
      "metadata": {
        "id": "J8D3GECg53XA"
      },
      "execution_count": null,
      "outputs": []
    }
  ]
}